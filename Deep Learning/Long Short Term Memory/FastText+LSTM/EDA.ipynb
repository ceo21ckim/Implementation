{
 "cells": [
  {
   "cell_type": "code",
   "execution_count": 53,
   "metadata": {},
   "outputs": [],
   "source": [
    "from settings import *\n",
    "from utils import *\n",
    "\n",
    "\n",
    "import pickle, os\n",
    "import pandas as pd \n",
    "\n",
    "import sentencepiece as spm\n",
    "\n",
    "import matplotlib.pyplot as plt \n",
    "%matplotlib inline "
   ]
  },
  {
   "cell_type": "code",
   "execution_count": 54,
   "metadata": {},
   "outputs": [],
   "source": [
    "def load_statistics(domain):\n",
    "    vocab = spm.SentencePieceProcessor()\n",
    "    vocab.load(os.path.join(SPM_PATH, f'{domain}.model'))\n",
    "    \n",
    "    with open(os.path.join(PICKLE_DIR, f'{domain}.pickle'), 'rb') as f:\n",
    "        dataframe = pickle.load(f)\n",
    "\n",
    "    dataframe.overall = dataframe.overall.apply(lambda x: sentiment_score(x))\n",
    "    dataframe.loc[:,'review_length'] = dataframe.loc[:,'reviewText'].apply(lambda x: vocab.encode_as_pieces(x).__len__())\n",
    "\n",
    "    print(f'{domain} :',dataframe.shape[0])\n",
    "    print('-'*150)\n",
    "    for col in ['reviewerID', 'asin', 'review_length', 'overall']:\n",
    "        if col == 'overall':\n",
    "            stats = dataframe.loc[:,col].value_counts()\n",
    "            print(f'{domain} {col:>13} : ', end='')\n",
    "            for idx, value in stats.items():\n",
    "                print(f'{idx}:{value:_.3f}', end='\\t')\n",
    "            print()\n",
    "\n",
    "        else:\n",
    "            stats = dataframe.loc[:,col].value_counts().describe()\n",
    "            print(f'{domain} {col:>13} : ', end='')\n",
    "            for idx, value in stats.items():\n",
    "                print(f'{idx}:{value:_.3f}', end='\\t')\n",
    "            print()\n",
    "    print('-'*150)\n",
    "    return None \n"
   ]
  },
  {
   "cell_type": "code",
   "execution_count": 55,
   "metadata": {},
   "outputs": [
    {
     "name": "stdout",
     "output_type": "stream",
     "text": [
      "beauty : 198502\n",
      "------------------------------------------------------------------------------------------------------------------------------------------------------\n",
      "beauty    reviewerID : count:22,363.000\tmean:8.876\tstd:8.164\tmin:5.000\t25%:5.000\t50%:6.000\t75%:9.000\tmax:204.000\t\n",
      "beauty          asin : count:12,101.000\tmean:16.404\tstd:23.610\tmin:5.000\t25%:6.000\t50%:9.000\t75%:16.000\tmax:431.000\t\n",
      "beauty review_length : count:1,263.000\tmean:157.167\tstd:415.576\tmin:1.000\t25%:1.500\t50%:8.000\t75%:77.000\tmax:2,936.000\t\n",
      "beauty       overall : 1:154,272.000\t0:22,248.000\t-1:21,982.000\t\n",
      "------------------------------------------------------------------------------------------------------------------------------------------------------\n"
     ]
    }
   ],
   "source": [
    "for domain in DATA_NAMES:\n",
    "    dataframe = load_statistics(domain)\n"
   ]
  },
  {
   "cell_type": "code",
   "execution_count": 32,
   "metadata": {},
   "outputs": [],
   "source": [
    "statistics = pd.DataFrame({\n",
    "    'Beauty' : [22_363, 12_101, 198_502, 157_167, 2_936], \n",
    "    'Electronics' : [192_403, 63_001, 1_689_188, 494_493, 24_876], \n",
    "    'Health' : [38_609, 18_534, 346_355, 602_236, 5_094], \n",
    "    'Sports' : [35_598, 18_357, 296_337, 177_660, 5_031]},\n",
    "    index = ['User', 'Item', 'Interaction', 'mean_length', 'max_length']\n",
    ")\n"
   ]
  },
  {
   "cell_type": "code",
   "execution_count": 33,
   "metadata": {},
   "outputs": [
    {
     "data": {
      "text/html": [
       "<div>\n",
       "<style scoped>\n",
       "    .dataframe tbody tr th:only-of-type {\n",
       "        vertical-align: middle;\n",
       "    }\n",
       "\n",
       "    .dataframe tbody tr th {\n",
       "        vertical-align: top;\n",
       "    }\n",
       "\n",
       "    .dataframe thead th {\n",
       "        text-align: right;\n",
       "    }\n",
       "</style>\n",
       "<table border=\"1\" class=\"dataframe\">\n",
       "  <thead>\n",
       "    <tr style=\"text-align: right;\">\n",
       "      <th></th>\n",
       "      <th>Beauty</th>\n",
       "      <th>Electronics</th>\n",
       "      <th>Health</th>\n",
       "      <th>Sports</th>\n",
       "    </tr>\n",
       "  </thead>\n",
       "  <tbody>\n",
       "    <tr>\n",
       "      <th>User</th>\n",
       "      <td>22363</td>\n",
       "      <td>192403</td>\n",
       "      <td>38609</td>\n",
       "      <td>35598</td>\n",
       "    </tr>\n",
       "    <tr>\n",
       "      <th>Item</th>\n",
       "      <td>12101</td>\n",
       "      <td>63001</td>\n",
       "      <td>18534</td>\n",
       "      <td>18357</td>\n",
       "    </tr>\n",
       "    <tr>\n",
       "      <th>Interaction</th>\n",
       "      <td>198502</td>\n",
       "      <td>1689188</td>\n",
       "      <td>346355</td>\n",
       "      <td>296337</td>\n",
       "    </tr>\n",
       "    <tr>\n",
       "      <th>mean_length</th>\n",
       "      <td>157167</td>\n",
       "      <td>494493</td>\n",
       "      <td>602236</td>\n",
       "      <td>177660</td>\n",
       "    </tr>\n",
       "    <tr>\n",
       "      <th>max_length</th>\n",
       "      <td>2936</td>\n",
       "      <td>24876</td>\n",
       "      <td>5094</td>\n",
       "      <td>5031</td>\n",
       "    </tr>\n",
       "  </tbody>\n",
       "</table>\n",
       "</div>"
      ],
      "text/plain": [
       "             Beauty  Electronics  Health  Sports\n",
       "User          22363       192403   38609   35598\n",
       "Item          12101        63001   18534   18357\n",
       "Interaction  198502      1689188  346355  296337\n",
       "mean_length  157167       494493  602236  177660\n",
       "max_length     2936        24876    5094    5031"
      ]
     },
     "execution_count": 33,
     "metadata": {},
     "output_type": "execute_result"
    }
   ],
   "source": [
    "statistics"
   ]
  },
  {
   "cell_type": "code",
   "execution_count": null,
   "metadata": {},
   "outputs": [],
   "source": []
  }
 ],
 "metadata": {
  "kernelspec": {
   "display_name": "Python 3.7.11 ('khu')",
   "language": "python",
   "name": "python3"
  },
  "language_info": {
   "codemirror_mode": {
    "name": "ipython",
    "version": 3
   },
   "file_extension": ".py",
   "mimetype": "text/x-python",
   "name": "python",
   "nbconvert_exporter": "python",
   "pygments_lexer": "ipython3",
   "version": "3.7.11"
  },
  "orig_nbformat": 4,
  "vscode": {
   "interpreter": {
    "hash": "e5a977ad4dafe3d064108857d3ba6450160e0f9cba8d5b81189375093f9db4ac"
   }
  }
 },
 "nbformat": 4,
 "nbformat_minor": 2
}
