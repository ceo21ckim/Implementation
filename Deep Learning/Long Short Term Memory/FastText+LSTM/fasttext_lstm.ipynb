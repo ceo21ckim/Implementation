{
 "cells": [
  {
   "cell_type": "code",
   "execution_count": 6,
   "metadata": {},
   "outputs": [],
   "source": [
    "import os\n",
    "import gc\n",
    "from settings import *\n",
    "from utils import * \n",
    "import os, pickle\n",
    "import tqdm \n",
    "from tqdm import trange\n",
    "import time\n",
    "\n",
    "from gensim.utils import tokenize \n",
    "from gensim.models import fasttext\n",
    "\n",
    "import numpy as np\n",
    "\n",
    "import torch \n",
    "import torch.nn as nn\n",
    "import torch.optim as optim\n",
    "\n",
    "from torch.utils.data import Dataset, DataLoader\n",
    "\n",
    "from sklearn.model_selection import train_test_split"
   ]
  },
  {
   "cell_type": "code",
   "execution_count": 7,
   "metadata": {},
   "outputs": [],
   "source": [
    "with open(os.path.join(PICKLE_DIR, 'beauty.pickle'), 'rb') as f:\n",
    "    beauty = pickle.load(f, encoding='utf-8')\n",
    "\n",
    "beauty.loc[:,'label'] = beauty.overall.apply(lambda x: sentiment_score(x))\n",
    "beauty = beauty.loc[:, ['reviewText', 'label']].copy()\n",
    "beauty.dropna(inplace= True)\n",
    "beauty.reset_index(inplace=True, drop=True)\n"
   ]
  },
  {
   "cell_type": "code",
   "execution_count": 258,
   "metadata": {},
   "outputs": [],
   "source": [
    "with open(os.path.join(PICKLE_DIR, 'electronics.pickle'), 'rb') as f:\n",
    "    electronics = pickle.load(f, encoding='utf-8')\n",
    "\n",
    "electronics.loc[:,'label'] = electronics.overall.apply(lambda x: sentiment_score(x))\n",
    "electronics = electronics.loc[:, ['reviewText', 'label']].copy()\n",
    "electronics.dropna(inplace= True)\n",
    "electronics.reset_index(inplace=True, drop=True)"
   ]
  },
  {
   "cell_type": "code",
   "execution_count": 72,
   "metadata": {},
   "outputs": [],
   "source": [
    "fasttext_models = fasttext.load_facebook_model('pre_trained\\\\wiki.en.bin')"
   ]
  },
  {
   "cell_type": "code",
   "execution_count": 259,
   "metadata": {},
   "outputs": [],
   "source": [
    "def data_loader(reviews, labels, batch_size, tokenizer=tokenize, embed_models=fasttext_models, max_len=512, latent_dim=300):\n",
    "    total_len = len(reviews)\n",
    "    for i in range(1, total_len, batch_size):\n",
    "        if (i + batch_size) > total_len :\n",
    "            total_sentences = np.empty([(total_len-i), max_len, latent_dim])\n",
    "\n",
    "        else:\n",
    "            total_sentences = np.empty([batch_size, max_len, latent_dim])\n",
    "\n",
    "        review  = reviews[i:min(i+batch_size, total_len)]\n",
    "        batch_label = [[np.int8(label)] for label in labels[i:min(i+batch_size, total_len)]]\n",
    "        for batch, sent in enumerate(review):\n",
    "            sentences = np.empty([max_len, latent_dim])\n",
    "            tokenized_review = list(tokenizer(sent))\n",
    "\n",
    "            if len(tokenized_review) < max_len:\n",
    "                tokenized_review += (max_len - len(tokenized_review))*[\"\"]\n",
    "            \n",
    "            else:\n",
    "                tokenized_review = tokenized_review[:max_len]\n",
    "            \n",
    "            for j, token in enumerate(tokenized_review):\n",
    "                sentences[j] = embed_models.wv[token]\n",
    "\n",
    "            total_sentences[batch] = sentences.reshape(1, max_len, latent_dim)\n",
    "\n",
    "        yield torch.Tensor(total_sentences), torch.Tensor(batch_label)"
   ]
  },
  {
   "cell_type": "code",
   "execution_count": 222,
   "metadata": {},
   "outputs": [],
   "source": [
    "beauty_reviews = beauty.reviewText \n",
    "beauty_labels = beauty.label"
   ]
  },
  {
   "cell_type": "code",
   "execution_count": 260,
   "metadata": {},
   "outputs": [],
   "source": [
    "electronics_reviews = electronics.reviewText \n",
    "electronics_labels = electronics.label"
   ]
  },
  {
   "cell_type": "code",
   "execution_count": 261,
   "metadata": {},
   "outputs": [],
   "source": [
    "X_train, X_test, Y_train, Y_test = train_test_split(electronics_reviews, electronics_labels, test_size=0.3, random_state=42)"
   ]
  },
  {
   "cell_type": "code",
   "execution_count": 262,
   "metadata": {},
   "outputs": [],
   "source": [
    "class LSTM(nn.Module):\n",
    "    def __init__(self, embed_dim, hidden_dim, n_classes, n_layers, bidirectional=True, dr_rate=0.2):\n",
    "        super(LSTM, self).__init__()\n",
    "        self.lstm = nn.LSTM(embed_dim, hidden_dim, num_layers=n_layers, bidirectional=bidirectional, batch_first=True)\n",
    "        self.fc = nn.Linear(2*hidden_dim if bidirectional else hidden_dim, n_classes)\n",
    "        self.dropout = nn.Dropout(dr_rate)\n",
    "        self.sigmoid = nn.Sigmoid()\n",
    "\n",
    "        self._init_weight()\n",
    "\n",
    "    def forward(self, words):\n",
    "        input = self.dropout(words)\n",
    "\n",
    "        o, (h, c) = self.lstm(input)\n",
    "        \n",
    "        if self.lstm.bidirectional:\n",
    "            h = torch.cat([h[-1], h[-2]], dim = -1)\n",
    "\n",
    "        else:\n",
    "            h = self.dropout(h[-1])\n",
    "\n",
    "        output = self.fc(h)\n",
    "        output = self.sigmoid(output)\n",
    "        return output \n",
    "\n",
    "    def _init_weight(self):\n",
    "        for m in self.modules():\n",
    "            if isinstance(m, nn.Linear):\n",
    "                nn.init.xavier_normal_(m.weight)\n",
    "                nn.init.zeros_(m.bias)\n",
    "            \n",
    "            elif isinstance(m, nn.LSTM):\n",
    "                for name, param in m.named_parameters():\n",
    "                    if 'bias' in name:\n",
    "                        nn.init.zeros_(param)\n",
    "                    \n",
    "                    elif 'weight' in name:\n",
    "                        nn.init.orthogonal_(param)"
   ]
  },
  {
   "cell_type": "code",
   "execution_count": 263,
   "metadata": {},
   "outputs": [],
   "source": [
    "vocab_size, embedding_dim = fasttext_models.wv.vectors.shape\n",
    "hidden_dim = 128\n",
    "n_classes = 1\n",
    "bidirectional = True\n",
    "n_layers = 2\n",
    "dr_rate = 0.2\n",
    "lr = 1e-3\n",
    "num_epochs = 15\n",
    "\n",
    "device = torch.device('cuda' if torch.cuda.is_available() else 'cpu')"
   ]
  },
  {
   "cell_type": "code",
   "execution_count": 264,
   "metadata": {},
   "outputs": [],
   "source": [
    "def calc_accuracy(pred_y, true_y):\n",
    "    return ((pred_y > 0.5) == true_y).sum()\n",
    "\n",
    "def epoch_time(start_time, end_time):\n",
    "    elapsed_time = end_time - start_time \n",
    "    elapsed_mins = elapsed_time // 60 \n",
    "    elapsed_secs = elapsed_time - elapsed_mins*60\n",
    "    return elapsed_mins, elapsed_secs "
   ]
  },
  {
   "cell_type": "code",
   "execution_count": 265,
   "metadata": {},
   "outputs": [],
   "source": [
    "lstm_models = LSTM(embedding_dim, hidden_dim, n_classes, n_layers, bidirectional, dr_rate).to(device)\n",
    "criterion = nn.BCELoss().to(device)\n",
    "optimizer = optim.Adam(lstm_models.parameters(), lr = lr)"
   ]
  },
  {
   "cell_type": "code",
   "execution_count": 266,
   "metadata": {},
   "outputs": [
    {
     "name": "stderr",
     "output_type": "stream",
     "text": [
      "  7%|▋         | 1/15 [2:59:40<41:55:23, 10780.28s/it]"
     ]
    },
    {
     "name": "stdout",
     "output_type": "stream",
     "text": [
      "epoch [1/15] | elapsed time: 179.0m 40.28s\n",
      "train loss: 539.7492\ttrain accuracy: 90.13%\n",
      "test loss: 139.0879\ttest accuracy: 93.89%\n"
     ]
    },
    {
     "name": "stderr",
     "output_type": "stream",
     "text": [
      " 13%|█▎        | 2/15 [5:59:59<38:58:17, 10792.10s/it]"
     ]
    },
    {
     "name": "stdout",
     "output_type": "stream",
     "text": [
      "epoch [2/15] | elapsed time: 180.0m 19.68s\n",
      "train loss: 291.9991\ttrain accuracy: 94.63%\n",
      "test loss: 104.9626\ttest accuracy: 95.52%\n"
     ]
    },
    {
     "name": "stderr",
     "output_type": "stream",
     "text": [
      " 20%|██        | 3/15 [9:00:44<36:01:34, 10807.84s/it]"
     ]
    },
    {
     "name": "stdout",
     "output_type": "stream",
     "text": [
      "epoch [3/15] | elapsed time: 180.0m 44.57s\n",
      "train loss: 242.5608\ttrain accuracy: 95.57%\n",
      "test loss: 96.0795\ttest accuracy: 95.91%\n"
     ]
    },
    {
     "name": "stderr",
     "output_type": "stream",
     "text": [
      " 27%|██▋       | 4/15 [11:28:56<31:16:02, 10232.95s/it]"
     ]
    },
    {
     "name": "stdout",
     "output_type": "stream",
     "text": [
      "epoch [4/15] | elapsed time: 148.0m 11.55s\n",
      "train loss: 218.0424\ttrain accuracy: 96.02%\n",
      "test loss: 87.0623\ttest accuracy: 96.32%\n"
     ]
    },
    {
     "name": "stderr",
     "output_type": "stream",
     "text": [
      " 33%|███▎      | 5/15 [13:54:57<27:11:54, 9791.50s/it] "
     ]
    },
    {
     "name": "stdout",
     "output_type": "stream",
     "text": [
      "epoch [5/15] | elapsed time: 146.0m 1.41s\n",
      "train loss: 201.6564\ttrain accuracy: 96.32%\n",
      "test loss: 82.6019\ttest accuracy: 96.52%\n"
     ]
    },
    {
     "name": "stderr",
     "output_type": "stream",
     "text": [
      " 40%|████      | 6/15 [16:23:36<23:49:28, 9529.85s/it]"
     ]
    },
    {
     "name": "stdout",
     "output_type": "stream",
     "text": [
      "epoch [6/15] | elapsed time: 148.0m 39.32s\n",
      "train loss: 187.3414\ttrain accuracy: 96.60%\n",
      "test loss: 82.2526\ttest accuracy: 96.49%\n"
     ]
    },
    {
     "name": "stderr",
     "output_type": "stream",
     "text": [
      " 47%|████▋     | 7/15 [18:50:28<20:41:54, 9314.34s/it]"
     ]
    },
    {
     "name": "stdout",
     "output_type": "stream",
     "text": [
      "epoch [7/15] | elapsed time: 146.0m 51.48s\n",
      "train loss: 174.6303\ttrain accuracy: 96.84%\n",
      "test loss: 80.3161\ttest accuracy: 96.63%\n"
     ]
    },
    {
     "name": "stderr",
     "output_type": "stream",
     "text": [
      " 53%|█████▎    | 8/15 [21:15:51<17:45:59, 9137.10s/it]"
     ]
    },
    {
     "name": "stdout",
     "output_type": "stream",
     "text": [
      "epoch [8/15] | elapsed time: 145.0m 23.53s\n",
      "train loss: 163.2955\ttrain accuracy: 97.05%\n",
      "test loss: 80.8145\ttest accuracy: 96.57%\n"
     ]
    },
    {
     "name": "stderr",
     "output_type": "stream",
     "text": [
      " 60%|██████    | 9/15 [23:41:13<15:01:14, 9012.38s/it]"
     ]
    },
    {
     "name": "stdout",
     "output_type": "stream",
     "text": [
      "epoch [9/15] | elapsed time: 145.0m 21.38s\n",
      "train loss: 153.2871\ttrain accuracy: 97.23%\n",
      "test loss: 81.5924\ttest accuracy: 96.59%\n"
     ]
    },
    {
     "name": "stderr",
     "output_type": "stream",
     "text": [
      " 60%|██████    | 9/15 [23:43:59<15:49:19, 9493.28s/it]\n"
     ]
    },
    {
     "ename": "KeyboardInterrupt",
     "evalue": "",
     "output_type": "error",
     "traceback": [
      "\u001b[1;31m---------------------------------------------------------------------------\u001b[0m",
      "\u001b[1;31mKeyboardInterrupt\u001b[0m                         Traceback (most recent call last)",
      "\u001b[1;32mC:\\Users\\BIGDAT~1\\AppData\\Local\\Temp/ipykernel_15876/3043853443.py\u001b[0m in \u001b[0;36m<module>\u001b[1;34m\u001b[0m\n\u001b[0;32m     17\u001b[0m \u001b[1;33m\u001b[0m\u001b[0m\n\u001b[0;32m     18\u001b[0m         \u001b[0mlstm_models\u001b[0m\u001b[1;33m.\u001b[0m\u001b[0mtrain\u001b[0m\u001b[1;33m(\u001b[0m\u001b[1;33m)\u001b[0m\u001b[1;33m\u001b[0m\u001b[1;33m\u001b[0m\u001b[0m\n\u001b[1;32m---> 19\u001b[1;33m         \u001b[1;32mfor\u001b[0m \u001b[0mreviews\u001b[0m\u001b[1;33m,\u001b[0m \u001b[0mlabels\u001b[0m \u001b[1;32min\u001b[0m \u001b[0mdata_loader\u001b[0m\u001b[1;33m(\u001b[0m\u001b[0mX_train\u001b[0m\u001b[1;33m,\u001b[0m \u001b[0mY_train\u001b[0m\u001b[1;33m,\u001b[0m \u001b[0mbatch_size\u001b[0m\u001b[1;33m=\u001b[0m\u001b[1;36m512\u001b[0m\u001b[1;33m)\u001b[0m\u001b[1;33m:\u001b[0m\u001b[1;33m\u001b[0m\u001b[1;33m\u001b[0m\u001b[0m\n\u001b[0m\u001b[0;32m     20\u001b[0m             \u001b[0mreviews\u001b[0m \u001b[1;33m=\u001b[0m \u001b[0mreviews\u001b[0m\u001b[1;33m.\u001b[0m\u001b[0mto\u001b[0m\u001b[1;33m(\u001b[0m\u001b[0mdevice\u001b[0m\u001b[1;33m)\u001b[0m\u001b[1;33m\u001b[0m\u001b[1;33m\u001b[0m\u001b[0m\n\u001b[0;32m     21\u001b[0m             \u001b[0mlabels\u001b[0m \u001b[1;33m=\u001b[0m \u001b[0mlabels\u001b[0m\u001b[1;33m.\u001b[0m\u001b[0mto\u001b[0m\u001b[1;33m(\u001b[0m\u001b[0mdevice\u001b[0m\u001b[1;33m)\u001b[0m\u001b[1;33m\u001b[0m\u001b[1;33m\u001b[0m\u001b[0m\n",
      "\u001b[1;32mC:\\Users\\BIGDAT~1\\AppData\\Local\\Temp/ipykernel_15876/4184788595.py\u001b[0m in \u001b[0;36mdata_loader\u001b[1;34m(reviews, labels, batch_size, tokenizer, embed_models, max_len, latent_dim)\u001b[0m\n\u001b[0;32m     21\u001b[0m \u001b[1;33m\u001b[0m\u001b[0m\n\u001b[0;32m     22\u001b[0m             \u001b[1;32mfor\u001b[0m \u001b[0mj\u001b[0m\u001b[1;33m,\u001b[0m \u001b[0mtoken\u001b[0m \u001b[1;32min\u001b[0m \u001b[0menumerate\u001b[0m\u001b[1;33m(\u001b[0m\u001b[0mtokenized_review\u001b[0m\u001b[1;33m)\u001b[0m\u001b[1;33m:\u001b[0m\u001b[1;33m\u001b[0m\u001b[1;33m\u001b[0m\u001b[0m\n\u001b[1;32m---> 23\u001b[1;33m                 \u001b[0msentences\u001b[0m\u001b[1;33m[\u001b[0m\u001b[0mj\u001b[0m\u001b[1;33m]\u001b[0m \u001b[1;33m=\u001b[0m \u001b[0membed_models\u001b[0m\u001b[1;33m.\u001b[0m\u001b[0mwv\u001b[0m\u001b[1;33m[\u001b[0m\u001b[0mtoken\u001b[0m\u001b[1;33m]\u001b[0m\u001b[1;33m\u001b[0m\u001b[1;33m\u001b[0m\u001b[0m\n\u001b[0m\u001b[0;32m     24\u001b[0m \u001b[1;33m\u001b[0m\u001b[0m\n\u001b[0;32m     25\u001b[0m             \u001b[0mtotal_sentences\u001b[0m\u001b[1;33m[\u001b[0m\u001b[0mbatch\u001b[0m\u001b[1;33m]\u001b[0m \u001b[1;33m=\u001b[0m \u001b[0msentences\u001b[0m\u001b[1;33m.\u001b[0m\u001b[0mreshape\u001b[0m\u001b[1;33m(\u001b[0m\u001b[1;36m1\u001b[0m\u001b[1;33m,\u001b[0m \u001b[0mmax_len\u001b[0m\u001b[1;33m,\u001b[0m \u001b[0mlatent_dim\u001b[0m\u001b[1;33m)\u001b[0m\u001b[1;33m\u001b[0m\u001b[1;33m\u001b[0m\u001b[0m\n",
      "\u001b[1;31mKeyboardInterrupt\u001b[0m: "
     ]
    }
   ],
   "source": [
    "train_total = X_train.__len__()\n",
    "test_total = X_test.__len__()\n",
    "train_loss_list = []\n",
    "train_acc_list = []\n",
    "\n",
    "test_loss_list = []\n",
    "test_acc_list = []\n",
    "\n",
    "\n",
    "best_loss = float(np.inf)\n",
    "with trange(num_epochs) as tr:\n",
    "\n",
    "    for epoch in tr :\n",
    "        start_time = time.time()\n",
    "        train_loss = 0\n",
    "        train_acc = 0\n",
    "\n",
    "        lstm_models.train()\n",
    "        for reviews, labels in data_loader(X_train, Y_train, batch_size=512):\n",
    "            reviews = reviews.to(device)\n",
    "            labels = labels.to(device)\n",
    "\n",
    "            pred_y = lstm_models(reviews)\n",
    "            loss = criterion(pred_y, labels)\n",
    "\n",
    "            optimizer.zero_grad()\n",
    "            loss.backward()\n",
    "            optimizer.step()\n",
    "\n",
    "            train_loss += loss.item()\n",
    "            train_acc += calc_accuracy(pred_y, labels)\n",
    "        train_acc = train_acc / train_total\n",
    "        train_loss_list.append(train_loss)\n",
    "        train_acc_list.append(train_acc)\n",
    "\n",
    "        test_loss = 0 \n",
    "        test_acc = 0 \n",
    "\n",
    "        lstm_models.eval()\n",
    "        for reviews, labels in data_loader(X_test, Y_test, batch_size=512):\n",
    "            reviews = reviews.to(device)\n",
    "            labels = labels.to(device)\n",
    "\n",
    "            pred_y = lstm_models(reviews)\n",
    "            loss = criterion(pred_y, labels)\n",
    "\n",
    "            test_loss += loss.item()\n",
    "            test_acc += calc_accuracy(pred_y, labels)\n",
    "        test_acc = test_acc / test_total\n",
    "        test_loss_list.append(test_loss)\n",
    "        test_acc_list.append(test_acc)\n",
    "\n",
    "        end_time = time.time()\n",
    "        elapsed_mins, elapsed_secs = epoch_time(start_time, end_time)\n",
    "        print(f'epoch [{epoch+1}/{num_epochs}] | elapsed time: {elapsed_mins}m {elapsed_secs:.2f}s')\n",
    "        print(f'train loss: {train_loss:.4f}\\ttrain accuracy: {train_acc*100:.2f}%')\n",
    "        print(f'test loss: {test_loss:.4f}\\ttest accuracy: {test_acc*100:.2f}%')\n",
    "\n",
    "        if best_loss > test_loss :\n",
    "            best_loss = test_loss\n",
    "            best_epoch = epoch\n",
    "            torch.save(lstm_models.state_dict(), 'beauty_best_parameter.pt')\n",
    "            \n",
    "    print(f'best_epochs:{best_epoch}')"
   ]
  },
  {
   "cell_type": "code",
   "execution_count": 248,
   "metadata": {},
   "outputs": [
    {
     "data": {
      "image/png": "[encoded data removed]",
      "text/plain": [
       "<Figure size 1800x648 with 2 Axes>"
      ]
     },
     "metadata": {
      "needs_background": "light"
     },
     "output_type": "display_data"
    }
   ],
   "source": [
    "import matplotlib.pyplot as plt \n",
    "k = np.arange(1, num_epochs+1)\n",
    "fig, axs = plt.subplots(nrows=1, ncols=2, figsize=(25, 9))\n",
    "axs[0].plot(k, train_loss_list[:10], label = 'train loss')\n",
    "axs[0].plot(k, test_loss_list, label = 'test loss')\n",
    "axs[0].legend(fontsize= 20, fancybox = False, edgecolor='black')\n",
    "\n",
    "axs[1].plot(k, train_acc_list[:10], label = 'train acc')\n",
    "axs[1].plot(k, test_acc_list, label = 'test acc')\n",
    "axs[1].legend(fontsize= 20, fancybox = False, edgecolor='black')\n",
    "plt.savefig('image/electronics_result.tif')\n",
    "plt.show()"
   ]
  },
  {
   "cell_type": "code",
   "execution_count": null,
   "metadata": {},
   "outputs": [],
   "source": []
  },
  {
   "cell_type": "code",
   "execution_count": null,
   "metadata": {},
   "outputs": [],
   "source": []
  }
 ],
 "metadata": {
  "kernelspec": {
   "display_name": "Python 3.7.11 ('khu')",
   "language": "python",
   "name": "python3"
  },
  "language_info": {
   "codemirror_mode": {
    "name": "ipython",
    "version": 3
   },
   "file_extension": ".py",
   "mimetype": "text/x-python",
   "name": "python",
   "nbconvert_exporter": "python",
   "pygments_lexer": "ipython3",
   "version": "3.7.11"
  },
  "orig_nbformat": 4,
  "vscode": {
   "interpreter": {
    "hash": "e5a977ad4dafe3d064108857d3ba6450160e0f9cba8d5b81189375093f9db4ac"
   }
  }
 },
 "nbformat": 4,
 "nbformat_minor": 2
}
