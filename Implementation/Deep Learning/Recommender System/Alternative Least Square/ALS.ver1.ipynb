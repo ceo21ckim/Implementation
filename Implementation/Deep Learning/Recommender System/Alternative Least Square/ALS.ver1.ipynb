{
 "cells": [
  {
   "cell_type": "code",
   "execution_count": 3,
   "source": [
    "from implicit.evaluation import *\r\n",
    "from implicit.als import AlternatingLeastSquares as ALS \r\n",
    "from implicit.bpr import BayesianPersonalizedRanking as BPR \r\n",
    "import scipy \r\n",
    "import numpy as np "
   ],
   "outputs": [],
   "metadata": {}
  },
  {
   "cell_type": "code",
   "execution_count": 4,
   "source": [
    "R = scipy.sparse.csr_matrix(np.array([[0, 3, 2], [5, 1, 2], [4, 2, 1], [2, 0, 4]]))"
   ],
   "outputs": [],
   "metadata": {}
  },
  {
   "cell_type": "code",
   "execution_count": 5,
   "source": [
    "als_model = ALS(factors = 2, regularization=0.01, iterations=10)\r\n",
    "als_model.fit(R.T)"
   ],
   "outputs": [
    {
     "output_type": "stream",
     "name": "stderr",
     "text": [
      "WARNING:root:OpenBLAS detected. Its highly recommend to set the environment variable 'export OPENBLAS_NUM_THREADS=1' to disable its internal multithreading\n",
      "100%|██████████| 10/10 [00:00<00:00, 200.55it/s]\n"
     ]
    }
   ],
   "metadata": {}
  },
  {
   "cell_type": "code",
   "execution_count": 6,
   "source": [
    "np.dot(als_model.user_factors, als_model.item_factors.T)"
   ],
   "outputs": [
    {
     "output_type": "execute_result",
     "data": {
      "text/plain": [
       "array([[0.16591905, 1.0711838 , 0.8571768 ],\n",
       "       [0.9712274 , 0.78086764, 1.1422706 ],\n",
       "       [0.9634731 , 0.9120823 , 1.2301841 ],\n",
       "       [1.1123229 , 0.31423268, 0.8987046 ]], dtype=float32)"
      ]
     },
     "metadata": {},
     "execution_count": 6
    }
   ],
   "metadata": {}
  },
  {
   "cell_type": "code",
   "execution_count": 7,
   "source": [
    "print('user factors')\r\n",
    "print(als_model.user_factors)\r\n",
    "\r\n",
    "print('\\n item factors')\r\n",
    "print(als_model.item_factors.T)"
   ],
   "outputs": [
    {
     "output_type": "stream",
     "name": "stdout",
     "text": [
      "user factors\n",
      "[[2.011443  2.3077452]\n",
      " [3.8012543 2.3214183]\n",
      " [3.9705389 2.5829997]\n",
      " [3.5109692 1.4764923]]\n",
      "\n",
      " item factors\n",
      "[[ 0.45240343 -0.16686188  0.15749823]\n",
      " [-0.3224206   0.6096067   0.23415847]]\n"
     ]
    }
   ],
   "metadata": {}
  },
  {
   "cell_type": "code",
   "execution_count": null,
   "source": [],
   "outputs": [],
   "metadata": {}
  }
 ],
 "metadata": {
  "interpreter": {
   "hash": "96cf18f209edf6220e7043c3825950920f4c7ad96ff42ffae85e8b73f5a9541f"
  },
  "kernelspec": {
   "name": "python3",
   "display_name": "Python 3.8.5 64-bit ('base': conda)"
  },
  "language_info": {
   "codemirror_mode": {
    "name": "ipython",
    "version": 3
   },
   "file_extension": ".py",
   "mimetype": "text/x-python",
   "name": "python",
   "nbconvert_exporter": "python",
   "pygments_lexer": "ipython3",
   "version": "3.8.5"
  }
 },
 "nbformat": 4,
 "nbformat_minor": 2
}