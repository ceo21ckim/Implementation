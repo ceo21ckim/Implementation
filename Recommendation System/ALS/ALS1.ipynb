{
 "cells": [
  {
   "cell_type": "code",
   "execution_count": 2,
   "source": [
    "import numpy as np \r\n",
    "from tqdm import tqdm_notebook as tqdm"
   ],
   "outputs": [],
   "metadata": {}
  },
  {
   "cell_type": "code",
   "execution_count": 9,
   "source": [
    "class AlternatingLeastSquares():\r\n",
    "    def __init__(self, R, k, reg_param, epochs, verbose = False):\r\n",
    "\r\n",
    "        self._R = R\r\n",
    "        self._k = k \r\n",
    "        self._num_users, self._num_items = R.shape\r\n",
    "        self._reg_param = reg_param\r\n",
    "        self._epochs = epochs\r\n",
    "        self._verbose = verbose \r\n",
    "\r\n",
    "\r\n",
    "    def fit(self):\r\n",
    "        self._users = np.random.normal(size = (self._num_users, self._k))\r\n",
    "        self._items = np.random.normal(size = (self._num_items, self._k))\r\n",
    "\r\n",
    "        # train while epochs \r\n",
    "        self._training_process = []\r\n",
    "        self._user_error = 0; self._item_error = 0;\r\n",
    "        for epoch in range(self._epochs):\r\n",
    "            for i, Ri in enumerate(self._R):\r\n",
    "                self._users[i] = self.user_latent(i, Ri)\r\n",
    "                self._user_error = self.cost()\r\n",
    "\r\n",
    "            for j, Rj in enumerate(self._R.T):\r\n",
    "                self._items[j] = self.item_latent(j, Rj)\r\n",
    "                self._item_error = self.cost()\r\n",
    "\r\n",
    "            cost = self.cost()\r\n",
    "            self._training_process.append((epoch, cost))\r\n",
    "\r\n",
    "            # print status\r\n",
    "            if self._verbose == True and ((epoch + 1) % 10 == 0) :\r\n",
    "                print('Iteration %d  cost = %.4f' % (epoch + 1, cost))\r\n",
    "\r\n",
    "\r\n",
    "    def cost(self):\r\n",
    "\r\n",
    "        xi, yi = self._R.nonzero()\r\n",
    "        cost = 0 \r\n",
    "        for x, y in zip(xi, yi):\r\n",
    "            cost += pow(self._R[x, y] - self.get_prediction(x, y), 2)\r\n",
    "        return np.sqrt(cost / len(xi))\r\n",
    "\r\n",
    "\r\n",
    "    def user_latent(self, i, Ri):\r\n",
    "\r\n",
    "        du = np.linalg.solve(np.dot(self._items.T, np.dot(np.diag(Ri), self._items)) + self._reg_param * np.eye(self._k),\r\n",
    "        np.dot(self._items.T, np.dot(np.diag(Ri), self._R[i].T))).T \r\n",
    "        return du \r\n",
    "\r\n",
    "\r\n",
    "    def item_latent(self, j, Rj):\r\n",
    "        \r\n",
    "        di = np.linalg.solve(np.dot(self._users.T, np.dot(np.diag(Rj), self._users)) + self._reg_param * np.eye(self._k),\r\n",
    "        np.dot(self._users.T, np.dot(np.diag(Rj), self._R[:,j])))\r\n",
    "        return di \r\n",
    "\r\n",
    "\r\n",
    "    def get_prediction(self, i, j):\r\n",
    "        return self._users[i, :].dot(self._items[j, :].T)\r\n",
    "\r\n",
    "\r\n",
    "    def get_complete_matrix(self):\r\n",
    "        return self._users.dot(self._items.T)\r\n",
    "\r\n",
    "\r\n",
    "\r\n",
    "if __name__ == '__main__' :\r\n",
    "    R = np.array([\r\n",
    "        [1, 0, 0, 1, 3],\r\n",
    "        [2, 0, 3, 1, 1],\r\n",
    "        [1, 2, 0, 5, 0],\r\n",
    "        [1, 0, 0, 4, 4],\r\n",
    "        [2, 1, 5, 4, 0],\r\n",
    "        [5, 1, 5, 4, 0],\r\n",
    "        [0, 0, 0, 1, 0]\r\n",
    "    ])\r\n"
   ],
   "outputs": [],
   "metadata": {}
  },
  {
   "cell_type": "code",
   "execution_count": 10,
   "source": [
    "als = AlternatingLeastSquares(R = R, k = 3, reg_param=0.01, epochs=100, verbose=True)\r\n",
    "als.fit()"
   ],
   "outputs": [
    {
     "output_type": "stream",
     "name": "stdout",
     "text": [
      "Iteration 10  cost = 0.0241\n",
      "Iteration 20  cost = 0.0136\n",
      "Iteration 30  cost = 0.0109\n",
      "Iteration 40  cost = 0.0093\n",
      "Iteration 50  cost = 0.0081\n",
      "Iteration 60  cost = 0.0072\n",
      "Iteration 70  cost = 0.0065\n",
      "Iteration 80  cost = 0.0059\n",
      "Iteration 90  cost = 0.0054\n",
      "Iteration 100  cost = 0.0050\n"
     ]
    }
   ],
   "metadata": {}
  },
  {
   "cell_type": "code",
   "execution_count": null,
   "source": [],
   "outputs": [],
   "metadata": {}
  }
 ],
 "metadata": {
  "orig_nbformat": 4,
  "language_info": {
   "name": "python",
   "version": "3.8.5",
   "mimetype": "text/x-python",
   "codemirror_mode": {
    "name": "ipython",
    "version": 3
   },
   "pygments_lexer": "ipython3",
   "nbconvert_exporter": "python",
   "file_extension": ".py"
  },
  "kernelspec": {
   "name": "python3",
   "display_name": "Python 3.8.5 64-bit ('base': conda)"
  },
  "interpreter": {
   "hash": "96cf18f209edf6220e7043c3825950920f4c7ad96ff42ffae85e8b73f5a9541f"
  }
 },
 "nbformat": 4,
 "nbformat_minor": 2
}