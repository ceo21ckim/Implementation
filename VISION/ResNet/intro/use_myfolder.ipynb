{
 "cells": [
  {
   "cell_type": "code",
   "execution_count": 12,
   "source": [
    "import torchvision \r\n",
    "import torch \r\n",
    "import torch.nn as nn \r\n",
    "from torchvision import transforms\r\n",
    "from torch.utils.data import DataLoader\r\n",
    "import matplotlib.pyplot as plt \r\n",
    "%matplotlib inline \r\n",
    "plt.rcParams['font.family'] = 'NanumGothic'"
   ],
   "outputs": [],
   "metadata": {}
  },
  {
   "cell_type": "code",
   "execution_count": null,
   "source": [
    "# Compose == Pipeline\r\n",
    "trans = transforms.Compose([\r\n",
    "    transforms.Resize((64, 128))\r\n",
    "])\r\n",
    "\r\n",
    "train_data = torchvision.datasets.ImageFolder(root = f'path', transform=trans)"
   ],
   "outputs": [],
   "metadata": {}
  },
  {
   "cell_type": "code",
   "execution_count": null,
   "source": [
    "for num, value in enumerate(train_data):\r\n",
    "    data, label = value \r\n",
    "    print(num , data, label)\r\n",
    "\r\n",
    "    plt.imshow(data);\r\n",
    "    break\r\n"
   ],
   "outputs": [],
   "metadata": {}
  },
  {
   "cell_type": "code",
   "execution_count": null,
   "source": [
    "for num, value in enumerate(train_data):\r\n",
    "    data, label = value \r\n",
    "    print(num , data, label)\r\n",
    "\r\n",
    "    # 새로운 폴더에 저장해야된다. train_data\r\n",
    "    # 파일의 크기를 변경한 후 저장하는 법.!\r\n",
    "    # folder를 만들어주어야한다.\r\n",
    "    if (label == 0 ):\r\n",
    "        data.save('path/%d_%d.jpeg'%(num, label))\r\n",
    "    else:\r\n",
    "        data.save('path/%d_%d.jpeg'%(num, label))\r\n",
    " "
   ],
   "outputs": [],
   "metadata": {}
  },
  {
   "cell_type": "code",
   "execution_count": 13,
   "source": [
    "class CNN(nn.Module):\r\n",
    "    def __init__(self):\r\n",
    "        super(CNN, self).__init__()\r\n",
    "        self.layer1 = nn.Sequential(\r\n",
    "            nn.Conv2d(3, 6, 5, 1),\r\n",
    "            nn.ReLU(),\r\n",
    "            nn.MaxPool2d(2)\r\n",
    "        )\r\n",
    "\r\n",
    "        self.layer2 = nn.Sequential(\r\n",
    "            nn.Conv2d(6, 16, 5, 1),\r\n",
    "            nn.ReLU(),\r\n",
    "            nn.MaxPool2d(2)\r\n",
    "        )\r\n",
    "\r\n",
    "        self.fc1 = nn.Linear(6032, 120)\r\n",
    "        self.relu = nn.ReLU()\r\n",
    "        self.fc2 = nn.Linear(120, 2)\r\n",
    "\r\n",
    "    def forward(self, x):\r\n",
    "        out = self.layer1(x)\r\n",
    "        out = self.layer2(out)\r\n",
    "        \r\n",
    "        out = out.view(out.size(0), -1)\r\n",
    "        out = self.fc1(out)\r\n",
    "        out = self.relu(out)\r\n",
    "        out = self.fc2(out)\r\n",
    "\r\n",
    "        return out "
   ],
   "outputs": [],
   "metadata": {}
  },
  {
   "cell_type": "code",
   "execution_count": null,
   "source": [
    "# 모델이 학습된 것을 저장해준다. \r\n",
    "# torch.save(model.state_dict(), './model/model.pth')\r\n",
    "path = r''\r\n",
    "# 저장한 후 불러오는 법!\r\n",
    "new_model = CNN().to('cpu')\r\n",
    "new_model.load_state_dict(torch.load(f'{path}'))"
   ],
   "outputs": [],
   "metadata": {}
  },
  {
   "cell_type": "code",
   "execution_count": null,
   "source": [
    "# pipeline\r\n",
    "trans = torchvision.transforms.Compose([\r\n",
    "    transforms.Resize((64, 128)),  \r\n",
    "    transforms.ToTensor()\r\n",
    "])\r\n",
    "\r\n",
    "test_data = torchvision.datasets.ImageFolder(root = f'{path}', transform=trans)\r\n",
    "test_set = DataLoader(dataset = test_data, batch_size = len(test_data))\r\n",
    "\r\n",
    "with torch.no_grad():\r\n",
    "    for num, data in enumerate(test_set):\r\n",
    "        imags, label = data \r\n",
    "        imgs = imgs.to(device)\r\n",
    "        label = label.to(device)\r\n",
    "\r\n",
    "        pred = model(imgs)\r\n",
    "\r\n",
    "        correct_prediction = torch.argmax(pred, 1) == label \r\n",
    "\r\n",
    "        accuracy = correct_prediction.sum() / len(label)\r\n",
    "        # accuracy = correct_prediction.float().sum()\r\n",
    "\r\n",
    "        print('Accuracy : ', accuracy.item())"
   ],
   "outputs": [],
   "metadata": {}
  }
 ],
 "metadata": {
  "orig_nbformat": 4,
  "language_info": {
   "name": "python",
   "version": "3.9.2",
   "mimetype": "text/x-python",
   "codemirror_mode": {
    "name": "ipython",
    "version": 3
   },
   "pygments_lexer": "ipython3",
   "nbconvert_exporter": "python",
   "file_extension": ".py"
  },
  "kernelspec": {
   "name": "python3",
   "display_name": "Python 3.9.2 64-bit ('geo': conda)"
  },
  "interpreter": {
   "hash": "9a957a1fea41707a244f264f295721eb09ec21d5be06b513cdb5f37b29d60cc5"
  }
 },
 "nbformat": 4,
 "nbformat_minor": 2
}